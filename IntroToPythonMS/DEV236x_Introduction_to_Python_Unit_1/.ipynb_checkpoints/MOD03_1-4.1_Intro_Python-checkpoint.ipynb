{
 "cells": [
  {
   "cell_type": "markdown",
   "metadata": {},
   "source": [
    "# 1-4.1 Intro Python\n",
    "## Conditionals \n",
    "- **`if`, `else`, `pass`**\n",
    "  - **Conditionals using Boolean String Methods**\n",
    "  - Comparison operators\n",
    "  - String comparisons\n",
    "\n",
    "----- \n",
    "\n",
    "><font size=\"5\" color=\"#00A0B2\"  face=\"verdana\"> <B>Student will be able to</B></font>  \n",
    "- **control code flow with `if`... `else` conditional logic**  \n",
    "  - **using Boolean string methods (`.isupper(), .isalpha(), startswith()...`)**  \n",
    "  - using comparison (`>, <, >=, <=, ==, !=`)  \n",
    "  - using Strings in comparisons  "
   ]
  },
  {
   "cell_type": "markdown",
   "metadata": {},
   "source": [
    "# &nbsp;\n",
    "<font size=\"6\" color=\"#00A0B2\"  face=\"verdana\"> <B>Concepts</B></font>\n",
    "## Conditionals use `True` or `False`\n",
    " - **`if`**\n",
    " - **`else`**\n",
    "   - **`pass`**  \n",
    "   \n",
    "[![view video](https://iajupyterprodblobs.blob.core.windows.net/imagecontainer/common/play_video.png)]( http://edxinteractivepage.blob.core.windows.net/edxpages/f7cff1a7-5601-48a1-95a6-fd1fdfabd20e.html?details=[{\"src\":\"http://jupyternootbookwams.streaming.mediaservices.windows.net/c53fdb30-b2b0-4183-9686-64b0e5b46dd2/Unit1_Section4.1-Conditionals.ism/manifest\",\"type\":\"application/vnd.ms-sstr+xml\"}],[{\"src\":\"http://jupyternootbookwams.streaming.mediaservices.windows.net/c53fdb30-b2b0-4183-9686-64b0e5b46dd2/Unit1_Section4.1-Conditonals.vtt\",\"srclang\":\"en\",\"kind\":\"subtitles\",\"label\":\"english\"}])"
   ]
  },
  {
   "cell_type": "markdown",
   "metadata": {},
   "source": [
    "# &nbsp;\n",
    "<font size=\"6\" color=\"#00A0B2\"  face=\"verdana\"> <B>Examples</B></font>"
   ]
  },
  {
   "cell_type": "code",
   "execution_count": 2,
   "metadata": {},
   "outputs": [
    {
     "name": "stdout",
     "output_type": "stream",
     "text": [
      "Not True means do something else\n"
     ]
    }
   ],
   "source": [
    "if False:\n",
    "    print(\"True means do something\")\n",
    "else:\n",
    "    print(\"Not True means do something else\")"
   ]
  },
  {
   "cell_type": "code",
   "execution_count": 4,
   "metadata": {},
   "outputs": [
    {
     "name": "stdout",
     "output_type": "stream",
     "text": [
      "enjoy some hot tea!\n"
     ]
    }
   ],
   "source": [
    "hot_tea = True\n",
    "\n",
    "if hot_tea:\n",
    "    print(\"enjoy some hot tea!\")\n",
    "else:\n",
    "    print(\"enjoy some tea, and perhaps try hot tea next time.\")"
   ]
  },
  {
   "cell_type": "code",
   "execution_count": 9,
   "metadata": {},
   "outputs": [],
   "source": [
    "someone_i_know = False\n",
    "if someone_i_know:\n",
    "    print(\"how have you been?\")\n",
    "else:\n",
    "    # use pass if there is no need to execute code \n",
    "    pass"
   ]
  },
  {
   "cell_type": "code",
   "execution_count": 10,
   "metadata": {},
   "outputs": [
    {
     "name": "stdout",
     "output_type": "stream",
     "text": [
      "how have you been?\n"
     ]
    }
   ],
   "source": [
    "# changed the value of someone_i_know\n",
    "someone_i_know = True\n",
    "if someone_i_know:\n",
    "    print(\"how have you been?\")\n",
    "else:\n",
    "    pass"
   ]
  },
  {
   "cell_type": "markdown",
   "metadata": {
    "collapsed": true
   },
   "source": [
    "# &nbsp;\n",
    "<font size=\"6\" color=\"#B24C00\"  face=\"verdana\"> <B>Task 1</B></font>\n",
    "\n",
    "## Conditionals\n",
    "### Using Boolean with &nbsp; `if, else`\n",
    "\n",
    "- **Give a weather report using `if, else`**"
   ]
  },
  {
   "cell_type": "code",
   "execution_count": 11,
   "metadata": {},
   "outputs": [
    {
     "name": "stdout",
     "output_type": "stream",
     "text": [
      "wow its sunny today\n"
     ]
    }
   ],
   "source": [
    "sunny_today = True\n",
    "# [ ] test if it is sunny_today and give proper responses using if and else\n",
    "if sunny_today:\n",
    "    print(\"wow its sunny today\")\n",
    "else:\n",
    "    print(\"too bad its not sunny\")\n"
   ]
  },
  {
   "cell_type": "code",
   "execution_count": 12,
   "metadata": {},
   "outputs": [
    {
     "name": "stdout",
     "output_type": "stream",
     "text": [
      "too bad its not sunny\n"
     ]
    }
   ],
   "source": [
    "sunny_today = False\n",
    "# [ ] use code you created above and test sunny_today = False\n",
    "if sunny_today:\n",
    "    print(\"wow its sunny today\")\n",
    "else:\n",
    "    print(\"too bad its not sunny\")\n"
   ]
  },
  {
   "cell_type": "markdown",
   "metadata": {},
   "source": [
    "# &nbsp;\n",
    "<font size=\"6\" color=\"#00A0B2\"  face=\"verdana\"> <B>Concepts</B></font>\n",
    "## Conditionals: Boolean String test methods  with `if`\n",
    "[![view video](https://iajupyterprodblobs.blob.core.windows.net/imagecontainer/common/play_video.png)]( http://edxinteractivepage.blob.core.windows.net/edxpages/f7cff1a7-5601-48a1-95a6-fd1fdfabd20e.html?details=[{\"src\":\"http://jupyternootbookwams.streaming.mediaservices.windows.net/caa56256-733a-4172-96f7-9ecfc12d49d0/Unit1_Section4.1-conditionals-bool.ism/manifest\",\"type\":\"application/vnd.ms-sstr+xml\"}],[{\"src\":\"http://jupyternootbookwams.streaming.mediaservices.windows.net/caa56256-733a-4172-96f7-9ecfc12d49d0/Unit1_Section4.1-conditonals-bool.vtt\",\"srclang\":\"en\",\"kind\":\"subtitles\",\"label\":\"english\"}])\n",
    "```python\n",
    "if student_name.isalpha():\n",
    "```  \n",
    "- **`.isalnum()`**\n",
    "- **`.istitle()`**\n",
    "- **`.isdigit()`**\n",
    "- **`.islower()`**\n",
    "- **`.startswith()`**\n"
   ]
  },
  {
   "cell_type": "markdown",
   "metadata": {},
   "source": [
    "### &nbsp;\n",
    "<font size=\"6\" color=\"#00A0B2\"  face=\"verdana\"> <B>Examples</B></font>"
   ]
  },
  {
   "cell_type": "code",
   "execution_count": 14,
   "metadata": {},
   "outputs": [
    {
     "name": "stdout",
     "output_type": "stream",
     "text": [
      "Enter the title of a favorite book: Saleebi jihad ki tehrik\n",
      "Saleebi jihad ki tehrik - consider capitalization throughout for book titles.\n"
     ]
    }
   ],
   "source": [
    "# review code and run cell\n",
    "favorite_book = input(\"Enter the title of a favorite book: \")\n",
    "\n",
    "if favorite_book.istitle():\n",
    "    print(favorite_book, \"- nice capitalization in that title!\")\n",
    "else:\n",
    "    print(favorite_book, \"- consider capitalization throughout for book titles.\")"
   ]
  },
  {
   "cell_type": "code",
   "execution_count": 18,
   "metadata": {},
   "outputs": [
    {
     "name": "stdout",
     "output_type": "stream",
     "text": [
      "enter a positive integer number: -1\n",
      "-1 is not a positive integer\n"
     ]
    }
   ],
   "source": [
    "# review code and run cell\n",
    "a_number = input(\"enter a positive integer number: \")\n",
    "\n",
    "# another if\n",
    "if a_number.isalpha():\n",
    "    print(a_number, \"is more like a word\")\n",
    "else:\n",
    "    pass\n",
    "\n",
    "if a_number.isdigit():\n",
    "    print(a_number, \"is a positive integer\")\n",
    "else:\n",
    "    print(a_number, \"is not a positive integer\")\n",
    "    \n"
   ]
  },
  {
   "cell_type": "code",
   "execution_count": 22,
   "metadata": {},
   "outputs": [
    {
     "name": "stdout",
     "output_type": "stream",
     "text": [
      "\"enter a type of vehicle that starts with \"P\": jaguaar\n",
      "jaguaar does not start with \"P\"\n"
     ]
    }
   ],
   "source": [
    "# review code and run cell\n",
    "vehicle_type = input('\"enter a type of vehicle that starts with \"P\": ')\n",
    "\n",
    "if vehicle_type.upper().startswith(\"P\"):\n",
    "    print(vehicle_type, 'starts with \"P\"')\n",
    "else:\n",
    "    print(vehicle_type, 'does not start with \"P\"')"
   ]
  },
  {
   "cell_type": "markdown",
   "metadata": {
    "collapsed": true
   },
   "source": [
    "# &nbsp;\n",
    "<font size=\"6\" color=\"#B24C00\"  face=\"verdana\"> <B>Task 2: multi-part</B></font>\n",
    "\n",
    "## Evaluating Boolean Conditionals \n",
    "### create evaluations for `.islower()`\n",
    "- print output describing **if** each of the 2 strings is all lower or not\n"
   ]
  },
  {
   "cell_type": "code",
   "execution_count": 26,
   "metadata": {},
   "outputs": [
    {
     "name": "stdout",
     "output_type": "stream",
     "text": [
      "both are not lower\n"
     ]
    }
   ],
   "source": [
    "test_string_1 = \"welcome\"\n",
    "test_string_2 = \"I have $3\"\n",
    "# [ ] use if, else to test for islower() for the 2 strings\n",
    "if test_string_1.islower() and test_string_2.islower():\n",
    "    print(\"both are lower\")\n",
    "else:\n",
    "    print(\"both are not lower\")\n"
   ]
  },
  {
   "cell_type": "markdown",
   "metadata": {},
   "source": [
    "<font size=\"3\" color=\"#B24C00\"  face=\"verdana\"> <B>Task 2 continued.. </B></font>\n",
    "### create a functions  using `startswith('w')`\n",
    "- w_start_test() tests if starts with \"w\"  \n",
    "**function should have a parameter for `test_string` and print the test result**"
   ]
  },
  {
   "cell_type": "code",
   "execution_count": 34,
   "metadata": {},
   "outputs": [
    {
     "name": "stdout",
     "output_type": "stream",
     "text": [
      "True\n",
      "False\n",
      "True\n"
     ]
    }
   ],
   "source": [
    "test_string_1 = \"welcome\"\n",
    "test_string_2 = \"I have $3\"\n",
    "test_string_3 = \"With a function it's efficient to repeat code\"\n",
    "# [ ] create a function w_start_test() use if & else to test with startswith('w')\n",
    "def w_start_test(phrase):\n",
    "    return phrase.lower().startswith(\"w\")\n",
    "# [ ] Test the 3 string variables provided by calling w_start_test()\n",
    "print(w_start_test(test_string_1))\n",
    "print(w_start_test(test_string_2))\n",
    "print(w_start_test(test_string_3))\n",
    "\n"
   ]
  },
  {
   "cell_type": "markdown",
   "metadata": {},
   "source": [
    "[Terms of use](http://go.microsoft.com/fwlink/?LinkID=206977) &nbsp; [Privacy & cookies](https://go.microsoft.com/fwlink/?LinkId=521839) &nbsp; © 2017 Microsoft"
   ]
  }
 ],
 "metadata": {
  "anaconda-cloud": {},
  "kernelspec": {
   "display_name": "Python 3",
   "language": "python",
   "name": "python3"
  },
  "language_info": {
   "codemirror_mode": {
    "name": "ipython",
    "version": 3
   },
   "file_extension": ".py",
   "mimetype": "text/x-python",
   "name": "python",
   "nbconvert_exporter": "python",
   "pygments_lexer": "ipython3",
   "version": "3.7.0"
  }
 },
 "nbformat": 4,
 "nbformat_minor": 1
}
