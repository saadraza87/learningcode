{
 "cells": [
  {
   "cell_type": "markdown",
   "metadata": {
    "collapsed": true
   },
   "source": [
    "## Python Strings and Functions \n",
    "https://mva.microsoft.com   \n",
    "\n",
    "The below functions are example solution for functions needed to build the scheduler program covered in the course"
   ]
  },
  {
   "cell_type": "code",
   "execution_count": 1,
   "metadata": {
    "collapsed": true
   },
   "outputs": [],
   "source": [
    "# RUN THIS CELL \n",
    "\n",
    "def get_name():\n",
    "    first = input(\"Enter your first (given) name: \")\n",
    "    last = input(\"Ener your last (family) name: \")\n",
    "    return first.capitalize() + \" \" + last.capitalize()\n",
    "\n",
    "def get_date_time():\n",
    "    date = input(\"Enter the date for the event (e.g. 3/14/18): \")\n",
    "    time = input(\"Ener the time for the event (e.g. 9:00 AM): \")\n",
    "    return date + \" at \" + time\n",
    "\n",
    "def get_title():\n",
    "    return input(\"Enter the title: \").title()\n",
    "\n",
    "def format_item(owner, datetime, subject):\n",
    "    return \"Event Title: \" + subject.title() + \"\\nDate-Time: \" + datetime + \"\\nOwner:  \" + owner\n",
    "\n",
    "def scheduler():\n",
    "    owner = get_name()\n",
    "    event_date_time = get_date_time()\n",
    "    event_title = get_title()\n",
    "    item = format_item(owner, event_date_time, event_title) \n",
    "    return item"
   ]
  },
  {
   "cell_type": "markdown",
   "metadata": {},
   "source": [
    "### The tests below show examples of how to call each of the functions  \n",
    "run the cells in order"
   ]
  },
  {
   "cell_type": "code",
   "execution_count": 2,
   "metadata": {},
   "outputs": [
    {
     "name": "stdout",
     "output_type": "stream",
     "text": [
      "Enter your first (given) name: Alton\n",
      "Ener your last (family) name: Derosa\n",
      "Hello Alton Derosa\n"
     ]
    }
   ],
   "source": [
    "owner = get_name()\n",
    "print(\"Hello\", owner)"
   ]
  },
  {
   "cell_type": "code",
   "execution_count": 3,
   "metadata": {},
   "outputs": [
    {
     "name": "stdout",
     "output_type": "stream",
     "text": [
      "Enter the date for the event (e.g. 3/14/18): 05/20/2019\n",
      "Ener the time for the event (e.g. 9:00 AM): 8:15 AM\n",
      "05/20/2019 at 8:15 AM\n"
     ]
    }
   ],
   "source": [
    "event_date_time = get_date_time()\n",
    "print(event_date_time)"
   ]
  },
  {
   "cell_type": "code",
   "execution_count": 4,
   "metadata": {},
   "outputs": [
    {
     "name": "stdout",
     "output_type": "stream",
     "text": [
      "Enter the title: Python Practice\n",
      "The Event:  Python Practice\n"
     ]
    }
   ],
   "source": [
    "event_title = get_title()\n",
    "print(\"The Event: \", event_title)"
   ]
  },
  {
   "cell_type": "code",
   "execution_count": 5,
   "metadata": {},
   "outputs": [
    {
     "name": "stdout",
     "output_type": "stream",
     "text": [
      "Event Title: Python Practice\n",
      "Date-Time: 05/20/2019 at 8:15 AM\n",
      "Owner:  Alton Derosa\n"
     ]
    }
   ],
   "source": [
    "# using the variables initialized above crate a formatted string\n",
    "item = format_item(owner, event_date_time, event_title)\n",
    "print(item)"
   ]
  },
  {
   "cell_type": "code",
   "execution_count": null,
   "metadata": {},
   "outputs": [
    {
     "name": "stdout",
     "output_type": "stream",
     "text": [
      "Enter your first (given) name: Colette\n",
      "Ener your last (family) name: Browning\n",
      "Enter the date for the event (e.g. 3/14/18): 05/21/2019\n",
      "Ener the time for the event (e.g. 9:00 AM): 6:00 PM\n",
      "Enter the title: Dinner with Alton\n",
      "\n",
      "Event Title: Dinner With Alton\n",
      "Date-Time: 05/21/2019 at 6:00 PM\n",
      "Owner:  Colette Browning\n"
     ]
    }
   ],
   "source": [
    "# scheduler does everything above in a function\n",
    "item1 = scheduler()\n",
    "print()\n",
    "print(item1)"
   ]
  },
  {
   "cell_type": "code",
   "execution_count": 8,
   "metadata": {},
   "outputs": [
    {
     "name": "stdout",
     "output_type": "stream",
     "text": [
      "Event Title: Python Practice\n",
      "Date-Time: 05/20/2019 at 8:15 AM\n",
      "Owner:  Alton Derosa\n",
      "-----------\n",
      "Event Title: Dinner With Alton\n",
      "Date-Time: 05/21/2019 at 6:00 PM\n",
      "Owner:  Colette Browning\n"
     ]
    }
   ],
   "source": [
    "print(item)\n",
    "print(\"-----------\")\n",
    "print(item1)"
   ]
  },
  {
   "cell_type": "code",
   "execution_count": 9,
   "metadata": {},
   "outputs": [
    {
     "data": {
      "text/plain": [
       "'Event Title: Python Practice\\nDate-Time: 05/20/2019 at 8:15 AM\\nOwner:  Alton Derosa'"
      ]
     },
     "execution_count": 9,
     "metadata": {},
     "output_type": "execute_result"
    }
   ],
   "source": [
    "item"
   ]
  },
  {
   "cell_type": "code",
   "execution_count": null,
   "metadata": {
    "collapsed": true
   },
   "outputs": [],
   "source": []
  },
  {
   "cell_type": "markdown",
   "metadata": {},
   "source": [
    "[Terms of use](http://go.microsoft.com/fwlink/?LinkID=206977) &nbsp; [Privacy & cookies](https://go.microsoft.com/fwlink/?LinkId=521839) &nbsp; © 2017 Microsoft"
   ]
  }
 ],
 "metadata": {
  "kernelspec": {
   "display_name": "Python 3.6",
   "language": "python",
   "name": "python36"
  },
  "language_info": {
   "codemirror_mode": {
    "name": "ipython",
    "version": 3
   },
   "file_extension": ".py",
   "mimetype": "text/x-python",
   "name": "python",
   "nbconvert_exporter": "python",
   "pygments_lexer": "ipython3",
   "version": "3.6.0"
  }
 },
 "nbformat": 4,
 "nbformat_minor": 2
}
