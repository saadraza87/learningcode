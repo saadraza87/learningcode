{
 "cells": [
  {
   "cell_type": "markdown",
   "metadata": {
    "collapsed": true
   },
   "source": [
    "## Python Strings and Functions \n",
    "https://mva.microsoft.com   \n",
    "\n",
    "**Use this notebook to create a verson of the functions to build the scheduler**"
   ]
  },
  {
   "cell_type": "markdown",
   "metadata": {},
   "source": [
    "### Create a varible from user input  \n",
    "- call the variable `name`  \n",
    "- test by printing `name`  \n"
   ]
  },
  {
   "cell_type": "code",
   "execution_count": null,
   "metadata": {
    "collapsed": true
   },
   "outputs": [],
   "source": []
  },
  {
   "cell_type": "markdown",
   "metadata": {},
   "source": [
    "### Build & Test get_name() function  \n",
    "- gets user input for first and last name  \n",
    "- returns a first & last name in a single string in title case (ex. \"Alton Derosa\")  \n"
   ]
  },
  {
   "cell_type": "code",
   "execution_count": null,
   "metadata": {
    "collapsed": true
   },
   "outputs": [],
   "source": []
  },
  {
   "cell_type": "markdown",
   "metadata": {},
   "source": [
    "### Build & Test get_date_time()  function  \n",
    "- gets user input for date and time  \n",
    "- returns a string containing the date and time (ex. \"02/24/2019 at 3:30 PM\")  \n"
   ]
  },
  {
   "cell_type": "code",
   "execution_count": null,
   "metadata": {
    "collapsed": true
   },
   "outputs": [],
   "source": []
  },
  {
   "cell_type": "markdown",
   "metadata": {},
   "source": [
    "### Build & Test get_title() function  \n",
    "- gets user input for the title of an event  \n",
    "- returns the title string in title case (ex. \"Python Study Group\")  \n"
   ]
  },
  {
   "cell_type": "code",
   "execution_count": null,
   "metadata": {
    "collapsed": true
   },
   "outputs": [],
   "source": []
  },
  {
   "cell_type": "markdown",
   "metadata": {},
   "source": [
    "### Build & Test format_item() function    \n",
    "- Function has 3 parameters: owner, datetime, and title  \n",
    "- returns a formated string using the aruguments supplied  \n",
    "- string example: ```'Event Title: Python Practice\\nDate-Time: 05/20/2019 at 8:15 AM\\nOwner:  Alton Derosa'```\n",
    "- print example:\n",
    "> ``` Event Title: Python Practice\n",
    "Date-Time: 05/20/2019 at 8:15 AM\n",
    "Owner:  Alton Derosa ```  \n"
   ]
  },
  {
   "cell_type": "code",
   "execution_count": null,
   "metadata": {
    "collapsed": true
   },
   "outputs": [],
   "source": []
  },
  {
   "cell_type": "markdown",
   "metadata": {},
   "source": [
    "### Build & Test scheduler()\n",
    "- calls each of the above functions in order  \n",
    "- returns the formated string  "
   ]
  },
  {
   "cell_type": "code",
   "execution_count": null,
   "metadata": {
    "collapsed": true
   },
   "outputs": [],
   "source": []
  },
  {
   "cell_type": "code",
   "execution_count": null,
   "metadata": {
    "collapsed": true
   },
   "outputs": [],
   "source": []
  },
  {
   "cell_type": "markdown",
   "metadata": {},
   "source": [
    "### Next Steps???  \n",
    "#### Continue Building Functionality\n",
    "- add a get_location() function and format_item() and scheduler()  \n",
    "- build a function that calls scheduler 3 times and prints the 3 schedule items  \n",
    "\n",
    "#### Take the full edX course and learn about loops and logic and more  \n",
    "- https://www.edx.org/course/introduction-python-absolute-beginner-microsoft-dev236x  \n"
   ]
  },
  {
   "cell_type": "code",
   "execution_count": null,
   "metadata": {
    "collapsed": true
   },
   "outputs": [],
   "source": []
  },
  {
   "cell_type": "markdown",
   "metadata": {
    "collapsed": true
   },
   "source": [
    "[Terms of use](http://go.microsoft.com/fwlink/?LinkID=206977) &nbsp; [Privacy & cookies](https://go.microsoft.com/fwlink/?LinkId=521839) &nbsp; © 2017 Microsoft"
   ]
  }
 ],
 "metadata": {
  "kernelspec": {
   "display_name": "Python 3.6",
   "language": "python",
   "name": "python36"
  },
  "language_info": {
   "codemirror_mode": {
    "name": "ipython",
    "version": 3
   },
   "file_extension": ".py",
   "mimetype": "text/x-python",
   "name": "python",
   "nbconvert_exporter": "python",
   "pygments_lexer": "ipython3",
   "version": "3.6.0"
  }
 },
 "nbformat": 4,
 "nbformat_minor": 2
}
