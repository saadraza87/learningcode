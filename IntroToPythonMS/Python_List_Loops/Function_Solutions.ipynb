{
 "cells": [
  {
   "cell_type": "markdown",
   "metadata": {},
   "source": [
    "## Python List and Functions \n",
    "https://mva.microsoft.com   \n",
    "\n",
    "The below functions are example solution for functions needed to build the scheduler program covered in the course"
   ]
  },
  {
   "cell_type": "code",
   "execution_count": 1,
   "metadata": {
    "collapsed": true
   },
   "outputs": [],
   "source": [
    "# RUN THIS CELL FIRST\n",
    "\n",
    "# Functions from Python: Strings and Functions\n",
    "def get_name():\n",
    "    first = input(\"Enter your first (given) name: \")\n",
    "    last = input(\"Ener your last (family) name: \")\n",
    "    return first.capitalize() + \" \" + last.capitalize()\n",
    "\n",
    "def get_date_time():\n",
    "    date = input(\"Enter the date for the event (e.g. 3/14/18): \")\n",
    "    time = input(\"Enter the time for the event (e.g. 9:00 AM): \")\n",
    "    return date + \" at \" + time\n",
    "\n",
    "def get_title():\n",
    "    return input(\"Enter the title: \").title()\n",
    "\n",
    "# Functions for this coourse Python: List Loops\n",
    "def format_list(subject, datetime, owner):\n",
    "    return [\"----------\",subject, datetime, owner]\n",
    "    \n",
    "def add_schedule_list(sched_list = [], new_item = []):\n",
    "    sched_list.extend(new_item)\n",
    "    return sched_list\n",
    "\n",
    "def display_schedules(schedules):\n",
    "    print()\n",
    "    print(\"----------\")\n",
    "    print(\"SCHEDULE\")\n",
    "    for item in schedules:\n",
    "        print(item)\n",
    "    print(\"----------\")\n",
    "\n",
    "def scheduler():\n",
    "    item_owner = get_name()\n",
    "    event_date_time = get_date_time()\n",
    "    event_title = get_title()\n",
    "    item = format_list(event_title, event_date_time, item_owner) \n",
    "    return item"
   ]
  },
  {
   "cell_type": "markdown",
   "metadata": {},
   "source": [
    "### The tests below show examples of how to call each of the functions  \n",
    "run the cells in order"
   ]
  },
  {
   "cell_type": "markdown",
   "metadata": {},
   "source": [
    "**Start with a list that already has a 1 item of schedule data**  "
   ]
  },
  {
   "cell_type": "code",
   "execution_count": 2,
   "metadata": {},
   "outputs": [
    {
     "name": "stdout",
     "output_type": "stream",
     "text": [
      "['----------', 'Hiking in the forest', '11/24/19 at 3 PM', 'Alton Derosa']\n"
     ]
    }
   ],
   "source": [
    "full_schedule = [\"----------\", \"Hiking in the forest\", \"11/24/19 at 3 PM\", \"Alton Derosa\" ]\n",
    "\n",
    "print(full_schedule)"
   ]
  },
  {
   "cell_type": "markdown",
   "metadata": {},
   "source": [
    "** then add another event by calling `add_schedule_list()`**"
   ]
  },
  {
   "cell_type": "code",
   "execution_count": 3,
   "metadata": {},
   "outputs": [
    {
     "name": "stdout",
     "output_type": "stream",
     "text": [
      "['----------', 'Hiking in the forest', '11/24/19 at 3 PM', 'Alton Derosa', '----------', 'Meeting with Skye Homsi', '12/04/19 at 3 PM', 'Colette Browning']\n"
     ]
    }
   ],
   "source": [
    "new_sched_item = [\"----------\", \"Meeting with Skye Homsi\", \"12/04/19 at 3 PM\", \"Colette Browning\" ]\n",
    "\n",
    "full_schedule = add_schedule_list(full_schedule, new_sched_item)\n",
    "\n",
    "print(full_schedule)"
   ]
  },
  {
   "cell_type": "markdown",
   "metadata": {},
   "source": [
    "** and then add a final event item built from input from calling `scheduler()` inside of the `add_schedule_list()` function**"
   ]
  },
  {
   "cell_type": "code",
   "execution_count": null,
   "metadata": {},
   "outputs": [
    {
     "name": "stdout",
     "output_type": "stream",
     "text": [
      "Enter your first (given) name: Jin\n",
      "Ener your last (family) name: Xu\n",
      "Enter the date for the event (e.g. 3/14/18): 06/12/2019\n",
      "Enter the time for the event (e.g. 9:00 AM): 5:15 AM\n",
      "Enter the title: coffee\n",
      "['----------', 'Hiking in the forest', '11/24/19 at 3 PM', 'Alton Derosa', '----------', 'Meeting with Skye Homsi', '12/04/19 at 3 PM', 'Colette Browning', '----------', 'Coffee', '06/12/2019 at 5:15 AM', 'Jin Xu']\n"
     ]
    }
   ],
   "source": [
    "full_schedule = add_schedule_list(full_schedule, scheduler())\n",
    "\n",
    "print(full_schedule)"
   ]
  },
  {
   "cell_type": "markdown",
   "metadata": {},
   "source": [
    "### Display the schedule"
   ]
  },
  {
   "cell_type": "code",
   "execution_count": 5,
   "metadata": {},
   "outputs": [
    {
     "name": "stdout",
     "output_type": "stream",
     "text": [
      "\n",
      "----------\n",
      "SCHEDULE\n",
      "----------\n",
      "Hiking in the forest\n",
      "11/24/19 at 3 PM\n",
      "Alton Derosa\n",
      "----------\n",
      "Meeting with Skye Homsi\n",
      "12/04/19 at 3 PM\n",
      "Colette Browning\n",
      "----------\n",
      "Coffee\n",
      "06/12/2019 at 5:15 AM\n",
      "Jin Xu\n",
      "----------\n"
     ]
    }
   ],
   "source": [
    "display_schedules(full_schedule)"
   ]
  },
  {
   "cell_type": "code",
   "execution_count": null,
   "metadata": {
    "collapsed": true
   },
   "outputs": [],
   "source": []
  },
  {
   "cell_type": "markdown",
   "metadata": {},
   "source": [
    "[Terms of use](http://go.microsoft.com/fwlink/?LinkID=206977) &nbsp; [Privacy & cookies](https://go.microsoft.com/fwlink/?LinkId=521839) &nbsp; © 2017 Microsoft"
   ]
  }
 ],
 "metadata": {
  "kernelspec": {
   "display_name": "Python 3.6",
   "language": "python",
   "name": "python36"
  },
  "language_info": {
   "codemirror_mode": {
    "name": "ipython",
    "version": 3
   },
   "file_extension": ".py",
   "mimetype": "text/x-python",
   "name": "python",
   "nbconvert_exporter": "python",
   "pygments_lexer": "ipython3",
   "version": "3.6.0"
  }
 },
 "nbformat": 4,
 "nbformat_minor": 2
}
