{
 "cells": [
  {
   "cell_type": "markdown",
   "metadata": {
    "collapsed": true
   },
   "source": [
    "## Python 3: Lists & Loops Demo\n",
    "### Building a simple scheduler  \n",
    "In this course we will build upon the **Python: Strings and Functions** course and continue to build a scheduler program using Python 3.  The course is based on a subset of the lessons covered in:   \n",
    "**Dev274x - Introduction to Python: Fundamentals** on edX.   \n",
    "\n",
    "The student will learn to gather, store and use data using python lists and build upon the features used in the Strings and function course."
   ]
  },
  {
   "cell_type": "code",
   "execution_count": 2,
   "metadata": {},
   "outputs": [
    {
     "ename": "ModuleNotFoundError",
     "evalue": "No module named 'schedule_list_functions'",
     "output_type": "error",
     "traceback": [
      "\u001b[0;31m---------------------------------------------------------------------------\u001b[0m",
      "\u001b[0;31mModuleNotFoundError\u001b[0m                       Traceback (most recent call last)",
      "\u001b[0;32m<ipython-input-2-97fde0434d6c>\u001b[0m in \u001b[0;36m<module>\u001b[0;34m()\u001b[0m\n\u001b[1;32m      1\u001b[0m \u001b[0;31m# import the functions for the list scheduler\u001b[0m\u001b[0;34m\u001b[0m\u001b[0;34m\u001b[0m\u001b[0m\n\u001b[0;32m----> 2\u001b[0;31m \u001b[0;32mfrom\u001b[0m \u001b[0mschedule_list_functions\u001b[0m \u001b[0;32mimport\u001b[0m \u001b[0;34m*\u001b[0m\u001b[0;34m\u001b[0m\u001b[0m\n\u001b[0m",
      "\u001b[0;31mModuleNotFoundError\u001b[0m: No module named 'schedule_list_functions'"
     ]
    }
   ],
   "source": [
    "# import the functions for the list scheduler\n",
    "from schedule_list_functions import *"
   ]
  },
  {
   "cell_type": "markdown",
   "metadata": {},
   "source": [
    "### Add some items to a schedule list  \n",
    "start with a beginning schedule in a list"
   ]
  },
  {
   "cell_type": "code",
   "execution_count": 2,
   "metadata": {},
   "outputs": [
    {
     "name": "stdout",
     "output_type": "stream",
     "text": [
      "['----------', 'Hiking in the forest', '11/24/19 at 3 PM', 'Alton Derosa']\n"
     ]
    }
   ],
   "source": [
    "\n",
    "full_schedule = [\"----------\", \"Hiking in the forest\", \"11/24/19 at 3 PM\", \"Alton Derosa\" ]\n",
    "\n",
    "print(full_schedule)"
   ]
  },
  {
   "cell_type": "markdown",
   "metadata": {},
   "source": [
    "** then add another event by calling `add_schedule()`**"
   ]
  },
  {
   "cell_type": "code",
   "execution_count": 3,
   "metadata": {},
   "outputs": [
    {
     "name": "stdout",
     "output_type": "stream",
     "text": [
      "['----------', 'Hiking in the forest', '11/24/19 at 3 PM', 'Alton Derosa', '----------', 'Meeting with Skye Homsi', '12/04/19 at 3 PM', 'Colette Browning']\n"
     ]
    }
   ],
   "source": [
    "new_sched_item = [\"----------\", \"Meeting with Skye Homsi\", \"12/04/19 at 3 PM\", \"Colette Browning\" ]\n",
    "\n",
    "full_schedule = add_schedule_list(full_schedule, new_sched_item)\n",
    "\n",
    "print(full_schedule)"
   ]
  },
  {
   "cell_type": "markdown",
   "metadata": {
    "collapsed": true
   },
   "source": [
    "** and then add a final event item built from input from calling `scheduler()`**"
   ]
  },
  {
   "cell_type": "code",
   "execution_count": 4,
   "metadata": {},
   "outputs": [
    {
     "name": "stdout",
     "output_type": "stream",
     "text": [
      "Enter your first (given) name: Alton\n",
      "Ener your last (family) name: Derosa\n",
      "Enter the date for the event (e.g. 3/14/18): 02/22/2019\n",
      "Enter the time for the event (e.g. 9:00 AM): 7:30 PM\n",
      "Enter the title: Play Chess in Library\n",
      "['----------', 'Hiking in the forest', '11/24/19 at 3 PM', 'Alton Derosa', '----------', 'Meeting with Skye Homsi', '12/04/19 at 3 PM', 'Colette Browning', '---------------', 'Play Chess In Library', '02/22/2019 at 7:30 PM', 'Alton Derosa']\n"
     ]
    }
   ],
   "source": [
    "full_schedule = add_schedule_list(full_schedule, scheduler())\n",
    "\n",
    "print(full_schedule)"
   ]
  },
  {
   "cell_type": "markdown",
   "metadata": {},
   "source": [
    "### Display the schedule"
   ]
  },
  {
   "cell_type": "code",
   "execution_count": 5,
   "metadata": {},
   "outputs": [
    {
     "name": "stdout",
     "output_type": "stream",
     "text": [
      "----------\n",
      "SCHEDULE\n",
      "----------\n",
      "Hiking in the forest\n",
      "11/24/19 at 3 PM\n",
      "Alton Derosa\n",
      "----------\n",
      "Meeting with Skye Homsi\n",
      "12/04/19 at 3 PM\n",
      "Colette Browning\n",
      "---------------\n",
      "Play Chess In Library\n",
      "02/22/2019 at 7:30 PM\n",
      "Alton Derosa\n",
      "----------\n"
     ]
    }
   ],
   "source": [
    "display_schedules(full_schedule)"
   ]
  },
  {
   "cell_type": "code",
   "execution_count": 1,
   "metadata": {},
   "outputs": [
    {
     "ename": "NameError",
     "evalue": "name 'add_schedule_list' is not defined",
     "output_type": "error",
     "traceback": [
      "\u001b[0;31m---------------------------------------------------------------------------\u001b[0m",
      "\u001b[0;31mNameError\u001b[0m                                 Traceback (most recent call last)",
      "\u001b[0;32m<ipython-input-1-5bb1ffe082b5>\u001b[0m in \u001b[0;36m<module>\u001b[0;34m()\u001b[0m\n\u001b[0;32m----> 1\u001b[0;31m \u001b[0mhelp\u001b[0m\u001b[0;34m(\u001b[0m\u001b[0madd_schedule_list\u001b[0m\u001b[0;34m)\u001b[0m\u001b[0;34m\u001b[0m\u001b[0m\n\u001b[0m",
      "\u001b[0;31mNameError\u001b[0m: name 'add_schedule_list' is not defined"
     ]
    }
   ],
   "source": [
    "help(add_schedule_list)"
   ]
  },
  {
   "cell_type": "code",
   "execution_count": null,
   "metadata": {
    "collapsed": true
   },
   "outputs": [],
   "source": []
  },
  {
   "cell_type": "code",
   "execution_count": null,
   "metadata": {
    "collapsed": true
   },
   "outputs": [],
   "source": []
  },
  {
   "cell_type": "code",
   "execution_count": null,
   "metadata": {
    "collapsed": true
   },
   "outputs": [],
   "source": []
  }
 ],
 "metadata": {
  "kernelspec": {
   "display_name": "Python 3.6",
   "language": "python",
   "name": "python36"
  },
  "language_info": {
   "codemirror_mode": {
    "name": "ipython",
    "version": 3
   },
   "file_extension": ".py",
   "mimetype": "text/x-python",
   "name": "python",
   "nbconvert_exporter": "python",
   "pygments_lexer": "ipython3",
   "version": "3.6.0"
  }
 },
 "nbformat": 4,
 "nbformat_minor": 2
}
