{
 "cells": [
  {
   "cell_type": "markdown",
   "metadata": {
    "collapsed": true
   },
   "source": [
    "## Python List and Functions \n",
    "https://mva.microsoft.com   \n",
    "\n",
    "The below functions are example solution for functions needed to build the scheduler program covered in the course"
   ]
  },
  {
   "cell_type": "code",
   "execution_count": 1,
   "metadata": {
    "collapsed": true
   },
   "outputs": [],
   "source": [
    "# RUN THIS CELL FIRST\n",
    "\n",
    "# Functions from Python: Strings and Functions\n",
    "def get_name():\n",
    "    first = input(\"Enter your first (given) name: \")\n",
    "    last = input(\"Ener your last (family) name: \")\n",
    "    return first.capitalize() + \" \" + last.capitalize()\n",
    "\n",
    "def get_date_time():\n",
    "    date = input(\"Enter the date for the event (e.g. 3/14/18): \")\n",
    "    time = input(\"Enter the time for the event (e.g. 9:00 AM): \")\n",
    "    return date + \" at \" + time\n",
    "\n",
    "def get_title():\n",
    "    return input(\"Enter the title: \").title()\n"
   ]
  },
  {
   "cell_type": "markdown",
   "metadata": {},
   "source": [
    "### Build `format_list()`  \n",
    "- parameters are 3 strings: subject, datetime, owner  \n",
    "- returns a list containing string items items: seperator (\"--------\"), subject, datetime, owner  "
   ]
  },
  {
   "cell_type": "code",
   "execution_count": null,
   "metadata": {
    "collapsed": true
   },
   "outputs": [],
   "source": []
  },
  {
   "cell_type": "markdown",
   "metadata": {},
   "source": [
    "### Build `scheduler()`  \n",
    "- no parameters   \n",
    "- calls the functions to get the subject, datetime, owner information inputs\n",
    "- builds the above info into a list using `format_list()` function  "
   ]
  },
  {
   "cell_type": "code",
   "execution_count": null,
   "metadata": {
    "collapsed": true
   },
   "outputs": [],
   "source": []
  },
  {
   "cell_type": "markdown",
   "metadata": {},
   "source": [
    "### Build `add_schedule_list()`  \n",
    "- 2 parameters, both are lists\n",
    "    - the existing list (or an empty list) that will be returned as an extended list  \n",
    "    - a \"new item\" list that contains the 4 strings produced from the `format_list()` function  \n",
    "- extend the existing list with the \"new item\" list  \n",
    "- return the now extended existing list  "
   ]
  },
  {
   "cell_type": "code",
   "execution_count": null,
   "metadata": {
    "collapsed": true
   },
   "outputs": [],
   "source": []
  },
  {
   "cell_type": "markdown",
   "metadata": {},
   "source": [
    "### Build `display_schedules()`  \n",
    "- 1 parameter a list of items that make up 1 or more schedules  \n",
    "- print a title, followed by each items in the list on it's own line, followed by final set of dashes, like:  \n",
    "\n",
    ">```----------\n",
    "SCHEDULE\n",
    "----------\n",
    "Hiking in the forest\n",
    "11/24/19 at 3 PM\n",
    "Alton Derosa\n",
    "----------\n",
    "Meeting with Skye Homsi\n",
    "12/04/19 at 3 PM\n",
    "Colette Browning\n",
    "----------\n",
    "Coffee\n",
    "06/12/2019 at 5:15 AM\n",
    "Jin Xu\n",
    "----------```  \n",
    "\n",
    "- No return item required  "
   ]
  },
  {
   "cell_type": "markdown",
   "metadata": {
    "collapsed": true
   },
   "source": [
    "### Build the final Program pieces  using the functions we have created  \n",
    "- Print a welcome message\n",
    "- Display the starting list (such as `[\"----------\", \"Hiking with friends\", \"7/24/19 at 10 AM\", \"Alton Derosa\"]`)  \n",
    "- Get two more schedule items from user input and append to the existing starting list  \n",
    "- Display the final list  "
   ]
  },
  {
   "cell_type": "code",
   "execution_count": null,
   "metadata": {
    "collapsed": true
   },
   "outputs": [],
   "source": []
  },
  {
   "cell_type": "markdown",
   "metadata": {},
   "source": [
    "[Terms of use](http://go.microsoft.com/fwlink/?LinkID=206977) &nbsp; [Privacy & cookies](https://go.microsoft.com/fwlink/?LinkId=521839) &nbsp; © 2017 Microsoft"
   ]
  }
 ],
 "metadata": {
  "kernelspec": {
   "display_name": "Python 3.6",
   "language": "python",
   "name": "python36"
  },
  "language_info": {
   "codemirror_mode": {
    "name": "ipython",
    "version": 3
   },
   "file_extension": ".py",
   "mimetype": "text/x-python",
   "name": "python",
   "nbconvert_exporter": "python",
   "pygments_lexer": "ipython3",
   "version": "3.6.0"
  }
 },
 "nbformat": 4,
 "nbformat_minor": 2
}
